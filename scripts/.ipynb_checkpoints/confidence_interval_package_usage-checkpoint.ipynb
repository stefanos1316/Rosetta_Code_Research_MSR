{
 "cells": [
  {
   "cell_type": "code",
   "execution_count": 118,
   "metadata": {},
   "outputs": [
    {
     "name": "stdout",
     "output_type": "stream",
     "text": [
      "Task Name: ackermann  Mean: 1.84  Interval: +/- 0.84\n",
      "Task Name: array-concat  Mean: 2.39  Interval: +/- 0.63\n",
      "Task Name: call-obj-method  Mean: 3.18  Interval: +/- 1.14\n",
      "Task Name: classes  Mean: 2.59  Interval: +/- 0.83\n",
      "Task Name: concurrent-comp.  Mean: 2.6  Interval: +/- 0.85\n",
      "Task Name: exponentiation-operator  Mean: 3.62  Interval: +/- 1.23\n",
      "Task Name: factorial  Mean: 2.07  Interval: +/- 0.71\n",
      "Task Name: file-I/O  Mean: 0.83  Interval: +/- 0.6\n",
      "Task Name: function-composition  Mean: 4.56  Interval: +/- 1.03\n",
      "Task Name: huffman  Mean: 2.11  Interval: +/- 0.55\n",
      "Task Name: inherit,-multi.  Mean: 1.81  Interval: +/- 2.01\n",
      "Task Name: inherit.-single  Mean: 0.85  Interval: +/- 0.76\n",
      "Task Name: json  Mean: 1.79  Interval: +/- 0.76\n",
      "Task Name: lzw-compression  Mean: 4.31  Interval: +/- 1.12\n",
      "Task Name: numerical-integration  Mean: 2.51  Interval: +/- 0.92\n",
      "Task Name: palindrome  Mean: 2.29  Interval: +/- 0.54\n",
      "Task Name: regex  Mean: 1.94  Interval: +/- 0.72\n",
      "Task Name: bubble-sort  Mean: 2.02  Interval: +/- 0.85\n",
      "Task Name: insertion-sort  Mean: 1.92  Interval: +/- 0.82\n",
      "Task Name: merge-sort  Mean: 3.74  Interval: +/- 0.89\n",
      "Task Name: quick-sort  Mean: 2.61  Interval: +/- 0.86\n",
      "Task Name: selection-sort  Mean: 2.07  Interval: +/- 0.79\n",
      "Task Name: synchronous-concurrency  Mean: 0.11  Interval: +/- 0.1\n",
      "Task Name: url-decoding  Mean: 3.86  Interval: +/- 0.88\n",
      "Task Name: url-encoding  Mean: 2.36  Interval: +/- 0.98\n"
     ]
    }
   ],
   "source": [
    "import pandas as pd\n",
    "import seaborn as sns\n",
    "import sys\n",
    "import matplotlib.pyplot as plt\n",
    "import numpy as np\n",
    "import scipy as sp\n",
    "import scipy.stats\n",
    "import re\n",
    "import math\n",
    "\n",
    "numberOfTasks = 25\n",
    "confideceInterval = 95\n",
    "z = 1.960\n",
    "numberOfLanguages = 14\n",
    "totalFields = numberOfTasks*numberOfLanguages\n",
    "tasksNames=['ackermann','array-concat', 'call-obj-method', 'classes','concurrent-comp.', 'exponentiation-operator','factorial','file-I/O','function-composition' ,'huffman', 'inherit,-multi.','inherit.-single','json','lzw-compression','numerical-integration','palindrome','regex','bubble-sort','insertion-sort','merge-sort','quick-sort','selection-sort','synchronous-concurrency','url-decoding','url-encoding']\n",
    "\n",
    "#Initializing Arrays\n",
    "langaugesEDP=[\"\"  for x in range(totalFields)]\n",
    "counter=0      \n",
    "with open('arm/Normalized_EDP_1.txt') as f:\n",
    "    for line in f:\n",
    "        line = line.replace(\":\",\"\")\n",
    "        line = line.replace(\",\",\"\")\n",
    "        #line = line.replace(\"-1\",\"NaN\")\n",
    "        data = re.split('\\s+', line)\n",
    "        data.pop(0)\n",
    "        for i in range(numberOfLanguages):\n",
    "            langaugesEDP[counter] = float(data[i])\n",
    "            counter += 1\n",
    "            \n",
    "correctlySortedEDP=[[0 for x in range(numberOfLanguages)] for y in range(numberOfTasks)] \n",
    "counter = 0\n",
    "for i in range(numberOfTasks):\n",
    "    for j in range (numberOfLanguages):\n",
    "        if langaugesEDP[counter] != -1 :\n",
    "            correctlySortedEDP[i][j] = langaugesEDP[counter]\n",
    "        else:\n",
    "            correctlySortedEDP[i][j] = np.nan\n",
    "        counter += 1 \n",
    "\n",
    "        \n",
    "for i in range(numberOfTasks):\n",
    "    #Get number of samples exluding the Nan values\n",
    "    numberOfSamples = 0\n",
    "    for j in range(numberOfLanguages):\n",
    "            if not np.isnan(correctlySortedEDP[i][j]):\n",
    "                numberOfSamples += 1\n",
    "    print(\"Task Name:\",tasksNames[i],\" Mean:\",str(round(np.nanmean(correctlySortedEDP[i]),2)),\" Interval: +/-\",str(round(z * (float(np.nanstd(correctlySortedEDP[i])) / math.sqrt(numberOfSamples)),2)))\n",
    "        "
   ]
  },
  {
   "cell_type": "code",
   "execution_count": null,
   "metadata": {},
   "outputs": [],
   "source": []
  },
  {
   "cell_type": "code",
   "execution_count": null,
   "metadata": {},
   "outputs": [],
   "source": []
  },
  {
   "cell_type": "code",
   "execution_count": null,
   "metadata": {},
   "outputs": [],
   "source": []
  }
 ],
 "metadata": {
  "kernelspec": {
   "display_name": "Python 3",
   "language": "python",
   "name": "python3"
  },
  "language_info": {
   "codemirror_mode": {
    "name": "ipython",
    "version": 3
   },
   "file_extension": ".py",
   "mimetype": "text/x-python",
   "name": "python",
   "nbconvert_exporter": "python",
   "pygments_lexer": "ipython3",
   "version": "3.6.2"
  }
 },
 "nbformat": 4,
 "nbformat_minor": 2
}
